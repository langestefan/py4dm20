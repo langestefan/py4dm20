{
 "cells": [
  {
   "cell_type": "markdown",
   "metadata": {},
   "source": [
    "### Imports"
   ]
  },
  {
   "cell_type": "code",
   "execution_count": 1,
   "metadata": {},
   "outputs": [],
   "source": [
    "import numpy as np\n",
    "np.set_printoptions(suppress=True)\n",
    "import matplotlib.pyplot as plt\n",
    "import cvxpy as cp "
   ]
  },
  {
   "attachments": {},
   "cell_type": "markdown",
   "metadata": {},
   "source": [
    "Question  d)"
   ]
  },
  {
   "cell_type": "code",
   "execution_count": 2,
   "metadata": {},
   "outputs": [],
   "source": [
    "from scipy.optimize import minimize, NonlinearConstraint, Bounds, LinearConstraint\n",
    "from numpy import cos, pi"
   ]
  },
  {
   "cell_type": "code",
   "execution_count": 3,
   "metadata": {},
   "outputs": [],
   "source": [
    "# constants\n",
    "n = 10\n",
    "alpha = 1.5\n",
    "rmin = 1.0\n",
    "rmax = 2.0\n",
    "theta = 2 * pi / (5 * (n + 1))\n",
    "costh = cos(theta)  # radians"
   ]
  },
  {
   "cell_type": "code",
   "execution_count": 4,
   "metadata": {},
   "outputs": [],
   "source": [
    "### Linear constraints ###\n",
    "lin_const = []\n",
    "\n",
    "# rmin <= r_i <= rmax (2)\n",
    "A2 = LinearConstraint(np.eye(n), rmin, rmax)\n",
    "lin_const.append(A2)\n",
    "\n",
    "# -theta*alpha <= r_{i+1} - r_i <= theta*alpha for i = 1, ..., n (4)\n",
    "M = (np.eye(n+1) - np.eye(n+1, k=-1))[1:-1, :-1]\n",
    "\n",
    "# col 1 is r1, col 2 is r2, etc.\n",
    "A4 = LinearConstraint(M, -theta*alpha, theta*alpha)\n",
    "lin_const.append(A4)\n",
    "\n",
    "# i = 0\n",
    "Mr1 = np.append(1, np.zeros(n-1, dtype=int))\n",
    "Ar1 = LinearConstraint(Mr1, rmin-theta*alpha, rmin+theta*alpha)\n",
    "lin_const.append(Ar1)\n",
    "\n",
    "# i = n\n",
    "Mrn = np.append(np.zeros(n-1, dtype=int), 1)\n",
    "Arn = LinearConstraint(Mrn, rmax-theta*alpha, rmax+theta*alpha)\n",
    "lin_const.append(Arn)"
   ]
  },
  {
   "cell_type": "code",
   "execution_count": 5,
   "metadata": {},
   "outputs": [],
   "source": [
    "### Nonlinear constraints ###\n",
    "# 2r_{i-1}*r_{i+1}*cos(theta) - r_i*r_{i-1} - r_i*r_{i+1} <= 0 for i = 0, ..., n+1 (3)\n",
    "non_lin_const = []\n",
    "\n",
    "# i = 0\n",
    "nlcon_0 = NonlinearConstraint(lambda r: 2*rmin*r[0]*costh - rmin*rmin - rmin*r[0], -np.inf, 0)\n",
    "non_lin_const.append(nlcon_0)\n",
    "\n",
    "# i = 1\n",
    "nlcon_1 = NonlinearConstraint(lambda r: 2*rmin*r[1]*costh - r[0]*rmin - r[0]*r[1], -np.inf, 0)\n",
    "non_lin_const.append(nlcon_1)\n",
    "\n",
    "# i = 2...n-1\n",
    "# for some reason a for loop that creates lambda functions doesn't work, messes up indexes?!?\n",
    "non_lin_const.append(NonlinearConstraint(lambda r: 2*r[0]*r[2]*costh - r[1]*r[0] - r[1]*r[2], -np.inf, 0))\n",
    "non_lin_const.append(NonlinearConstraint(lambda r: 2*r[1]*r[3]*costh - r[2]*r[1] - r[2]*r[3], -np.inf, 0))\n",
    "non_lin_const.append(NonlinearConstraint(lambda r: 2*r[2]*r[4]*costh - r[3]*r[2] - r[3]*r[4], -np.inf, 0))\n",
    "non_lin_const.append(NonlinearConstraint(lambda r: 2*r[3]*r[5]*costh - r[4]*r[3] - r[4]*r[5], -np.inf, 0))\n",
    "non_lin_const.append(NonlinearConstraint(lambda r: 2*r[4]*r[6]*costh - r[5]*r[4] - r[5]*r[6], -np.inf, 0))\n",
    "non_lin_const.append(NonlinearConstraint(lambda r: 2*r[5]*r[7]*costh - r[6]*r[5] - r[6]*r[7], -np.inf, 0))\n",
    "non_lin_const.append(NonlinearConstraint(lambda r: 2*r[6]*r[8]*costh - r[7]*r[6] - r[7]*r[8], -np.inf, 0))\n",
    "non_lin_const.append(NonlinearConstraint(lambda r: 2*r[7]*r[9]*costh - r[8]*r[7] - r[8]*r[9], -np.inf, 0))\n",
    "\n",
    "# i = n\n",
    "nlcon_n = NonlinearConstraint(lambda r: 2*r[n-2]*rmax*costh - r[n-1]*r[n-2] - r[n-1]*rmax, -np.inf, 0)\n",
    "non_lin_const.append(nlcon_n)\n",
    "\n",
    "# i = n+1\n",
    "nlcon_np1 = NonlinearConstraint(lambda r: 2*r[n-1]*r[n-1]*costh - rmax*r[n-1] - rmax*r[n-1], -np.inf, 0)\n",
    "non_lin_const.append(nlcon_np1)"
   ]
  },
  {
   "cell_type": "code",
   "execution_count": 6,
   "metadata": {},
   "outputs": [
    {
     "name": "stdout",
     "output_type": "stream",
     "text": [
      "12\n"
     ]
    }
   ],
   "source": [
    "print(len(non_lin_const))"
   ]
  },
  {
   "cell_type": "code",
   "execution_count": 7,
   "metadata": {},
   "outputs": [],
   "source": [
    "### Objective function ###\n",
    "# maximize sum of r_i\n",
    "def obj(r):\n",
    "    return -np.mean(r)"
   ]
  },
  {
   "cell_type": "code",
   "execution_count": 8,
   "metadata": {},
   "outputs": [
    {
     "name": "stdout",
     "output_type": "stream",
     "text": [
      " barrier_parameter: 3.200000000000001e-05\n",
      " barrier_tolerance: 3.200000000000001e-05\n",
      "          cg_niter: 35\n",
      "      cg_stop_cond: 4\n",
      "            constr: [array([1.01320359, 1.04049947, 1.08381755, 1.14648066, 1.23388601,\n",
      "       1.3548074 , 1.52398202, 1.69521275, 1.86610606, 1.99984003]), array([0.02729588, 0.04331807, 0.06266312, 0.08740535, 0.12092138,\n",
      "       0.16917462, 0.17123073, 0.17089332, 0.13373397]), array([1.01320359]), array([1.99984003]), array([-0.00000507]), array([-0.00000696]), array([-0.0000095]), array([-0.00001383]), array([-0.00002154]), array([-0.00003251]), array([-0.00005397]), array([-0.08474314]), array([-0.09617111]), array([-0.15924761]), array([-0.31582451]), array([-0.0527776])]\n",
      "       constr_nfev: [0, 0, 0, 0, 286, 286, 286, 286, 286, 286, 286, 286, 286, 286, 286, 286]\n",
      "       constr_nhev: [0, 0, 0, 0, 0, 0, 0, 0, 0, 0, 0, 0, 0, 0, 0, 0]\n",
      "       constr_njev: [0, 0, 0, 0, 0, 0, 0, 0, 0, 0, 0, 0, 0, 0, 0, 0]\n",
      "    constr_penalty: 1.0\n",
      "  constr_violation: 0.0\n",
      "    execution_time: 0.15103673934936523\n",
      "               fun: -1.39578355414784\n",
      "              grad: array([-0.10000001, -0.1       , -0.10000001, -0.10000001, -0.1       ,\n",
      "       -0.10000001, -0.10000001, -0.10000001, -0.10000001, -0.1       ])\n",
      "               jac: [array([[1., 0., 0., 0., 0., 0., 0., 0., 0., 0.],\n",
      "       [0., 1., 0., 0., 0., 0., 0., 0., 0., 0.],\n",
      "       [0., 0., 1., 0., 0., 0., 0., 0., 0., 0.],\n",
      "       [0., 0., 0., 1., 0., 0., 0., 0., 0., 0.],\n",
      "       [0., 0., 0., 0., 1., 0., 0., 0., 0., 0.],\n",
      "       [0., 0., 0., 0., 0., 1., 0., 0., 0., 0.],\n",
      "       [0., 0., 0., 0., 0., 0., 1., 0., 0., 0.],\n",
      "       [0., 0., 0., 0., 0., 0., 0., 1., 0., 0.],\n",
      "       [0., 0., 0., 0., 0., 0., 0., 0., 1., 0.],\n",
      "       [0., 0., 0., 0., 0., 0., 0., 0., 0., 1.]]), array([[-1.,  1.,  0.,  0.,  0.,  0.,  0.,  0.,  0.,  0.],\n",
      "       [ 0., -1.,  1.,  0.,  0.,  0.,  0.,  0.,  0.,  0.],\n",
      "       [ 0.,  0., -1.,  1.,  0.,  0.,  0.,  0.,  0.,  0.],\n",
      "       [ 0.,  0.,  0., -1.,  1.,  0.,  0.,  0.,  0.,  0.],\n",
      "       [ 0.,  0.,  0.,  0., -1.,  1.,  0.,  0.,  0.,  0.],\n",
      "       [ 0.,  0.,  0.,  0.,  0., -1.,  1.,  0.,  0.,  0.],\n",
      "       [ 0.,  0.,  0.,  0.,  0.,  0., -1.,  1.,  0.,  0.],\n",
      "       [ 0.,  0.,  0.,  0.,  0.,  0.,  0., -1.,  1.,  0.],\n",
      "       [ 0.,  0.,  0.,  0.,  0.,  0.,  0.,  0., -1.,  1.]]), array([[1., 0., 0., 0., 0., 0., 0., 0., 0., 0.]]), array([[0., 0., 0., 0., 0., 0., 0., 0., 0., 1.]]), array([[0.98696347, 0.        , 0.        , 0.        , 0.        ,\n",
      "        0.        , 0.        , 0.        , 0.        , 0.        ]]), array([[-2.04049947,  0.97375988,  0.        ,  0.        ,  0.        ,\n",
      "         0.        ,  0.        ,  0.        ,  0.        ,  0.        ]]), array([[ 1.11300642, -2.09702114,  0.97269905,  0.        ,  0.        ,\n",
      "         0.        ,  0.        ,  0.        ,  0.        ,  0.        ]]), array([[ 0.        ,  1.19419764, -2.18698012,  0.98361691,  0.        ,\n",
      "         0.        ,  0.        ,  0.        ,  0.        ,  0.        ]]), array([[ 0.        ,  0.        ,  1.30520578, -2.31770356,  1.00702521,\n",
      "         0.        ,  0.        ,  0.        ,  0.        ,  0.        ]]), array([[ 0.        ,  0.        ,  0.        ,  1.45806677, -2.50128806,\n",
      "         1.04412918,  0.        ,  0.        ,  0.        ,  0.        ]]), array([[ 0.        ,  0.        ,  0.        ,  0.        ,  1.6732892 ,\n",
      "        -2.75786802,  1.09687905,  0.        ,  0.        ,  0.        ]]), array([[ 0.        ,  0.        ,  0.        ,  0.        ,  0.        ,\n",
      "         1.84434379, -3.05002013,  1.16797079,  0.        ,  0.        ]]), array([[ 0.        ,  0.        ,  0.        ,  0.        ,  0.        ,\n",
      "         0.        ,  2.01267181, -3.39008809,  1.33288383,  0.        ]]), array([[ 0.        ,  0.        ,  0.        ,  0.        ,  0.        ,\n",
      "         0.        ,  0.        ,  2.10750302, -3.69505277,  1.50221974]]), array([[ 0.        ,  0.        ,  0.        ,  0.        ,  0.        ,\n",
      "         0.        ,  0.        ,  0.        ,  1.97408692, -3.86610605]]), array([[0.        , 0.        , 0.        , 0.        , 0.        ,\n",
      "        0.        , 0.        , 0.        , 0.        , 3.94721825]])]\n",
      "   lagrangian_grad: array([-0.        , -0.        , -0.        , -0.        , -0.        ,\n",
      "       -0.        , -0.        , -0.        , -0.00000001,  0.        ])\n",
      "           message: '`gtol` termination condition is satisfied.'\n",
      "            method: 'tr_interior_point'\n",
      "              nfev: 286\n",
      "              nhev: 0\n",
      "               nit: 31\n",
      "             niter: 31\n",
      "              njev: 26\n",
      "        optimality: 7.502240942033628e-09\n",
      "            status: 1\n",
      "           success: True\n",
      "         tr_radius: 1220.3591752965328\n",
      "                 v: [array([-0.00239103, -0.00075672, -0.00034682, -0.00018094, -0.00009503,\n",
      "       -0.00004058,  0.00000616,  0.00005897,  0.00020248,  0.09697657]), array([0.00006105, 0.00010087, 0.00015769, 0.00025757, 0.00052514,\n",
      "       0.01451191, 0.20083946, 0.10062835, 0.00073833]), array([0.00002895]), array([-0.00000053]), array([7.1577802]), array([5.7012708]), array([4.1970967]), array([2.80567318]), array([1.65019432]), array([0.79916401]), array([0.26146989]), array([0.00037754]), array([0.00033392]), array([0.00019975]), array([0.00010158]), array([0.00060252])]\n",
      "                 x: array([1.01320359, 1.04049947, 1.08381755, 1.14648066, 1.23388601,\n",
      "       1.3548074 , 1.52398202, 1.69521275, 1.86610606, 1.99984003])\n"
     ]
    },
    {
     "name": "stderr",
     "output_type": "stream",
     "text": [
      "c:\\Users\\lange\\.conda\\envs\\4dm20\\lib\\site-packages\\scipy\\optimize\\_hessian_update_strategy.py:182: UserWarning: delta_grad == 0.0. Check if the approximated function is linear. If the function is linear better results can be obtained by defining the Hessian as zero instead of using quasi-Newton approximations.\n",
      "  warn('delta_grad == 0.0. Check if the approximated '\n"
     ]
    }
   ],
   "source": [
    "# initial design (r0)\n",
    "r0 = rmin*np.ones(n)\n",
    "\n",
    "### Solve ###\n",
    "res = minimize(obj, r0,\n",
    "    method=\"trust-constr\",\n",
    "    constraints=[*lin_const, *non_lin_const],\n",
    "    options={\"maxiter\": 10000}\n",
    ")\n",
    "\n",
    "# print results\n",
    "print(res)"
   ]
  },
  {
   "cell_type": "code",
   "execution_count": 9,
   "metadata": {},
   "outputs": [
    {
     "name": "stdout",
     "output_type": "stream",
     "text": [
      "[1.0132 1.0405 1.0838 1.1465 1.2339 1.3548 1.524  1.6952 1.8661 1.9998]\n"
     ]
    }
   ],
   "source": [
    "# print results\n",
    "print(np.round(res.x,4))"
   ]
  },
  {
   "attachments": {},
   "cell_type": "markdown",
   "metadata": {},
   "source": [
    "`[1.0132 1.0405 1.0839 1.1466 1.2341 1.3551 1.5246 1.6959 1.8673 2.0000]`"
   ]
  }
 ],
 "metadata": {
  "kernelspec": {
   "display_name": "4dm20",
   "language": "python",
   "name": "python3"
  },
  "language_info": {
   "codemirror_mode": {
    "name": "ipython",
    "version": 3
   },
   "file_extension": ".py",
   "mimetype": "text/x-python",
   "name": "python",
   "nbconvert_exporter": "python",
   "pygments_lexer": "ipython3",
   "version": "3.10.10"
  },
  "orig_nbformat": 4
 },
 "nbformat": 4,
 "nbformat_minor": 2
}
