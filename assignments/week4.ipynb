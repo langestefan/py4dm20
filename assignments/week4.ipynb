{
 "cells": [
  {
   "cell_type": "markdown",
   "metadata": {},
   "source": [
    "### Imports"
   ]
  },
  {
   "cell_type": "code",
   "execution_count": 1,
   "metadata": {},
   "outputs": [],
   "source": [
    "import numpy as np\n",
    "np.set_printoptions(suppress=True)\n",
    "import matplotlib.pyplot as plt\n",
    "import cvxpy as cp "
   ]
  },
  {
   "attachments": {},
   "cell_type": "markdown",
   "metadata": {},
   "source": [
    "Question  d)"
   ]
  },
  {
   "cell_type": "code",
   "execution_count": 2,
   "metadata": {},
   "outputs": [],
   "source": [
    "from scipy.optimize import minimize, NonlinearConstraint, Bounds, LinearConstraint\n",
    "from numpy import cos, pi"
   ]
  },
  {
   "cell_type": "code",
   "execution_count": 3,
   "metadata": {},
   "outputs": [],
   "source": [
    "# constants\n",
    "n = 10\n",
    "alpha = 1.5\n",
    "rmin = 1.0\n",
    "rmax = 2.0\n",
    "theta = 2 * pi / (5 * (n + 1))\n",
    "costh = cos(theta)  # radians"
   ]
  },
  {
   "cell_type": "code",
   "execution_count": 55,
   "metadata": {},
   "outputs": [],
   "source": [
    "### Linear constraints ###\n",
    "lin_const = []\n",
    "\n",
    "# rmin <= r_i <= rmax (2)\n",
    "A2 = LinearConstraint(np.eye(n), rmin, rmax)\n",
    "lin_const.append(A2)\n",
    "\n",
    "# -theta*alpha <= r_{i+1} - r_i <= theta*alpha for i = 1, ..., n (4)\n",
    "M = (np.eye(n+1) - np.eye(n+1, k=-1))[1:-1, :-1]\n",
    "\n",
    "# col 1 is r1, col 2 is r2, etc.\n",
    "A4 = LinearConstraint(M, -theta*alpha, theta*alpha)\n",
    "lin_const.append(A4)\n",
    "\n",
    "# i = 0\n",
    "Mr1 = np.append(1, np.zeros(n-1))\n",
    "Ar1 = LinearConstraint(Mr1, rmin-theta*alpha, rmin+theta*alpha)\n",
    "lin_const.append(Ar1)\n",
    "\n",
    "# i = n\n",
    "Mrn = np.append(np.zeros(n-1), -1)\n",
    "Arn = LinearConstraint(Mrn, -rmax-theta*alpha, -rmax+theta*alpha)\n",
    "lin_const.append(Arn)"
   ]
  },
  {
   "cell_type": "code",
   "execution_count": 56,
   "metadata": {},
   "outputs": [],
   "source": [
    "### Nonlinear constraints ###\n",
    "# 2r_{i-1}*r_{i+1}*cos(theta) - r_i*r_{i-1} - r_i*r_{i+1} <= 0 for i = 0, ..., n+1 (3)\n",
    "non_lin_const = []\n",
    "\n",
    "# i = 0\n",
    "nlcon_0 = NonlinearConstraint(lambda r: 2*rmin*r[0]*costh - rmin**2 - rmin*r[0], -np.inf, 0)\n",
    "non_lin_const.append(nlcon_0)\n",
    "\n",
    "# i = 1\n",
    "nlcon_1 = NonlinearConstraint(lambda r: 2*rmin*r[1]*costh - r[0]*rmin - r[0]*r[1], -np.inf, 0)\n",
    "non_lin_const.append(nlcon_1)\n",
    "\n",
    "# i = 2...n-1\n",
    "for i in range(2, n):\n",
    "    non_lin_const.append(NonlinearConstraint(lambda r: 2*r[i-2]*r[i]*costh - r[i-1]*r[i-2] - r[i-1]*r[i], -np.inf, 0))\n",
    "\n",
    "# i = n\n",
    "nlcon_n = NonlinearConstraint(lambda r: 2*r[n-2]*rmax*costh - r[n-1]*r[n-2] - r[n-1]*rmax, -np.inf, 0)\n",
    "non_lin_const.append(nlcon_n)\n",
    "\n",
    "# i = n+1\n",
    "nlcon_np1 = NonlinearConstraint(lambda r: 2*r[n-1]**2 * costh - rmax*r[n-1] - rmax*r[n-1], -np.inf, 0)\n",
    "non_lin_const.append(nlcon_np1)"
   ]
  },
  {
   "cell_type": "code",
   "execution_count": 57,
   "metadata": {},
   "outputs": [],
   "source": [
    "### Objective function ###\n",
    "# maximize sum of r_i\n",
    "def obj(r):\n",
    "    return -np.mean(r)"
   ]
  },
  {
   "cell_type": "code",
   "execution_count": 58,
   "metadata": {},
   "outputs": [
    {
     "name": "stdout",
     "output_type": "stream",
     "text": [
      " message: Optimization terminated successfully\n",
      " success: True\n",
      "  status: 0\n",
      "     fun: -1.582670692507787\n",
      "       x: [ 1.013e+00  1.041e+00  1.212e+00  1.383e+00  1.555e+00\n",
      "            1.726e+00  1.897e+00  2.000e+00  2.000e+00  2.000e+00]\n",
      "     nit: 6\n",
      "     jac: [-1.000e-01 -1.000e-01 -1.000e-01 -1.000e-01 -1.000e-01\n",
      "           -1.000e-01 -1.000e-01 -1.000e-01 -1.000e-01 -1.000e-01]\n",
      "    nfev: 66\n",
      "    njev: 6\n"
     ]
    }
   ],
   "source": [
    "# initial design (r0)\n",
    "r0 = rmin*np.ones(n)\n",
    "\n",
    "### Solve ###\n",
    "res = minimize(obj, r0,\n",
    "    # method=\"trust-constr\",\n",
    "    constraints=[*lin_const, *non_lin_const]\n",
    ")\n",
    "\n",
    "# print results\n",
    "print(res)"
   ]
  },
  {
   "cell_type": "code",
   "execution_count": null,
   "metadata": {},
   "outputs": [],
   "source": []
  },
  {
   "cell_type": "code",
   "execution_count": 59,
   "metadata": {},
   "outputs": [
    {
     "name": "stdout",
     "output_type": "stream",
     "text": [
      "16\n"
     ]
    }
   ],
   "source": [
    "print(len(non_lin_const) + len(lin_const))"
   ]
  }
 ],
 "metadata": {
  "kernelspec": {
   "display_name": "4dm20",
   "language": "python",
   "name": "python3"
  },
  "language_info": {
   "codemirror_mode": {
    "name": "ipython",
    "version": 3
   },
   "file_extension": ".py",
   "mimetype": "text/x-python",
   "name": "python",
   "nbconvert_exporter": "python",
   "pygments_lexer": "ipython3",
   "version": "3.10.10"
  },
  "orig_nbformat": 4
 },
 "nbformat": 4,
 "nbformat_minor": 2
}
