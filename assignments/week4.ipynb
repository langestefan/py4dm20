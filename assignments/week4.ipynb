{
 "cells": [
  {
   "cell_type": "markdown",
   "metadata": {},
   "source": [
    "### Imports"
   ]
  },
  {
   "cell_type": "code",
   "execution_count": 1,
   "metadata": {},
   "outputs": [],
   "source": [
    "import numpy as np\n",
    "np.set_printoptions(suppress=True)"
   ]
  },
  {
   "attachments": {},
   "cell_type": "markdown",
   "metadata": {},
   "source": [
    "Question  d)"
   ]
  },
  {
   "cell_type": "code",
   "execution_count": 2,
   "metadata": {},
   "outputs": [],
   "source": [
    "from scipy.optimize import minimize, NonlinearConstraint, LinearConstraint\n",
    "from numpy import cos, pi"
   ]
  },
  {
   "cell_type": "code",
   "execution_count": 3,
   "metadata": {},
   "outputs": [],
   "source": [
    "# constants\n",
    "n = 10\n",
    "alpha = 1.5\n",
    "rmin = 1.0\n",
    "rmax = 2.0\n",
    "theta = 2 * pi / (5 * (n + 1))\n",
    "costh = cos(theta)  # radians"
   ]
  },
  {
   "cell_type": "code",
   "execution_count": 4,
   "metadata": {},
   "outputs": [],
   "source": [
    "### Linear constraints ###\n",
    "lin_const = []\n",
    "\n",
    "# rmin <= r_i <= rmax (2)\n",
    "A2 = LinearConstraint(np.eye(n), rmin, rmax)\n",
    "lin_const.append(A2)\n",
    "\n",
    "# -theta*alpha <= r_{i+1} - r_i <= theta*alpha for i = 1, ..., n (4)\n",
    "M = (np.eye(n+1) - np.eye(n+1, k=-1))[1:-1, :-1]\n",
    "\n",
    "# col 1 is r1, col 2 is r2, etc.\n",
    "A4 = LinearConstraint(M, -theta*alpha, theta*alpha)\n",
    "lin_const.append(A4)\n",
    "\n",
    "# i = 0\n",
    "Mr1 = np.append(1, np.zeros(n-1, dtype=int))\n",
    "Ar1 = LinearConstraint(Mr1, rmin-theta*alpha, rmin+theta*alpha)\n",
    "lin_const.append(Ar1)\n",
    "\n",
    "# i = n\n",
    "Mrn = np.append(np.zeros(n-1, dtype=int), 1)\n",
    "Arn = LinearConstraint(Mrn, rmax-theta*alpha, rmax+theta*alpha)\n",
    "lin_const.append(Arn)"
   ]
  },
  {
   "cell_type": "code",
   "execution_count": 5,
   "metadata": {},
   "outputs": [],
   "source": [
    "### Nonlinear constraints ###\n",
    "\n",
    "# 2r_{i-1}*r_{i+1}*cos(theta) - r_i*r_{i-1} - r_i*r_{i+1} <= 0 for i = 0, ..., n+1 (3)\n",
    "non_lin_const = []\n",
    "\n",
    "# i = 0\n",
    "nlcon_0 = NonlinearConstraint(lambda r: 2*rmin*r[0]*costh - rmin*rmin - rmin*r[0], -np.inf, 0)\n",
    "non_lin_const.append(nlcon_0)\n",
    "\n",
    "# i = 1\n",
    "nlcon_1 = NonlinearConstraint(lambda r: 2*rmin*r[1]*costh - r[0]*rmin - r[0]*r[1], -np.inf, 0)\n",
    "non_lin_const.append(nlcon_1)\n",
    "\n",
    "# WARNING: we need to fix i in lambda, because otherwise it will always use the last reference value of i!!!\n",
    "# i = 2...n-1\n",
    "for i in range(2, n-1):\n",
    "    non_lin_const.append(NonlinearConstraint(lambda r, idx=i: 2*r[idx-2]*r[idx]*costh - r[idx-1]*r[idx-2] - r[idx-1]*r[idx], -np.inf, 0))  \n",
    "\n",
    "# i = n\n",
    "nlcon_n = NonlinearConstraint(lambda r: 2*r[n-2]*rmax*costh - r[n-1]*r[n-2] - r[n-1]*rmax, -np.inf, 0)\n",
    "non_lin_const.append(nlcon_n)\n",
    "\n",
    "# i = n+1\n",
    "nlcon_np1 = NonlinearConstraint(lambda r: 2*r[n-1]*r[n-1]*costh - rmax*r[n-1] - rmax*r[n-1], -np.inf, 0)\n",
    "non_lin_const.append(nlcon_np1)"
   ]
  },
  {
   "cell_type": "code",
   "execution_count": 6,
   "metadata": {},
   "outputs": [],
   "source": [
    "### Objective function ###\n",
    "# maximize sum of r_i\n",
    "def obj(r):\n",
    "    return -np.mean(r)"
   ]
  },
  {
   "cell_type": "code",
   "execution_count": 7,
   "metadata": {},
   "outputs": [
    {
     "name": "stdout",
     "output_type": "stream",
     "text": [
      " barrier_parameter: 3.200000000000001e-05\n",
      " barrier_tolerance: 3.200000000000001e-05\n",
      "          cg_niter: 40\n",
      "      cg_stop_cond: 4\n",
      "            constr: [array([1.01320412, 1.0405017 , 1.08382279, 1.14649342, 1.23391615,\n",
      "       1.35484973, 1.52399642, 1.69516386, 1.8661072 , 1.99981608]), array([0.02729758, 0.04332109, 0.06267063, 0.08742273, 0.12093358,\n",
      "       0.16914668, 0.17116744, 0.17094334, 0.13370888]), array([1.01320412]), array([1.99981608]), array([-0.00000454]), array([-0.00000586]), array([-0.00000849]), array([-0.00001009]), array([-0.00001391]), array([-0.00004509]), array([-0.0001045]), array([-0.08476608]), array([-0.09597488]), array([-0.31572967]), array([-0.05287215])]\n",
      "       constr_nfev: [0, 0, 0, 0, 286, 286, 286, 286, 286, 286, 286, 286, 286, 286, 286]\n",
      "       constr_nhev: [0, 0, 0, 0, 0, 0, 0, 0, 0, 0, 0, 0, 0, 0, 0]\n",
      "       constr_njev: [0, 0, 0, 0, 0, 0, 0, 0, 0, 0, 0, 0, 0, 0, 0]\n",
      "    constr_penalty: 1.0\n",
      "  constr_violation: 0.0\n",
      "    execution_time: 0.16112589836120605\n",
      "               fun: -1.3957871465952747\n",
      "              grad: array([-0.1       , -0.09999999, -0.09999999, -0.1       , -0.1       ,\n",
      "       -0.1       , -0.1       , -0.09999999, -0.1       , -0.1       ])\n",
      "               jac: [array([[1., 0., 0., 0., 0., 0., 0., 0., 0., 0.],\n",
      "       [0., 1., 0., 0., 0., 0., 0., 0., 0., 0.],\n",
      "       [0., 0., 1., 0., 0., 0., 0., 0., 0., 0.],\n",
      "       [0., 0., 0., 1., 0., 0., 0., 0., 0., 0.],\n",
      "       [0., 0., 0., 0., 1., 0., 0., 0., 0., 0.],\n",
      "       [0., 0., 0., 0., 0., 1., 0., 0., 0., 0.],\n",
      "       [0., 0., 0., 0., 0., 0., 1., 0., 0., 0.],\n",
      "       [0., 0., 0., 0., 0., 0., 0., 1., 0., 0.],\n",
      "       [0., 0., 0., 0., 0., 0., 0., 0., 1., 0.],\n",
      "       [0., 0., 0., 0., 0., 0., 0., 0., 0., 1.]]), array([[-1.,  1.,  0.,  0.,  0.,  0.,  0.,  0.,  0.,  0.],\n",
      "       [ 0., -1.,  1.,  0.,  0.,  0.,  0.,  0.,  0.,  0.],\n",
      "       [ 0.,  0., -1.,  1.,  0.,  0.,  0.,  0.,  0.,  0.],\n",
      "       [ 0.,  0.,  0., -1.,  1.,  0.,  0.,  0.,  0.,  0.],\n",
      "       [ 0.,  0.,  0.,  0., -1.,  1.,  0.,  0.,  0.,  0.],\n",
      "       [ 0.,  0.,  0.,  0.,  0., -1.,  1.,  0.,  0.,  0.],\n",
      "       [ 0.,  0.,  0.,  0.,  0.,  0., -1.,  1.,  0.,  0.],\n",
      "       [ 0.,  0.,  0.,  0.,  0.,  0.,  0., -1.,  1.,  0.],\n",
      "       [ 0.,  0.,  0.,  0.,  0.,  0.,  0.,  0., -1.,  1.]]), array([[1., 0., 0., 0., 0., 0., 0., 0., 0., 0.]]), array([[0., 0., 0., 0., 0., 0., 0., 0., 0., 1.]]), array([[0.98696348, 0.        , 0.        , 0.        , 0.        ,\n",
      "        0.        , 0.        , 0.        , 0.        , 0.        ]]), array([[-2.0405017 ,  0.97375936,  0.        ,  0.        ,  0.        ,\n",
      "         0.        ,  0.        ,  0.        ,  0.        ,  0.        ]]), array([[ 1.11301461, -2.09702689,  0.97269789,  0.        ,  0.        ,\n",
      "         0.        ,  0.        ,  0.        ,  0.        ,  0.        ]]), array([[ 0.        ,  1.19421777, -2.18699511,  0.98361609,  0.        ,\n",
      "         0.        ,  0.        ,  0.        ,  0.        ,  0.        ]]), array([[ 0.        ,  0.        ,  1.30525292, -2.31773894,  1.00702287,\n",
      "         0.        ,  0.        ,  0.        ,  0.        ,  0.        ]]), array([[ 0.        ,  0.        ,  0.        ,  1.45812077, -2.50134317,\n",
      "         1.04412441,  0.        ,  0.        ,  0.        ,  0.        ]]), array([[ 0.        ,  0.        ,  0.        ,  0.        ,  1.67327547,\n",
      "        -2.75791253,  1.09689659,  0.        ,  0.        ,  0.        ]]), array([[ 0.        ,  0.        ,  0.        ,  0.        ,  0.        ,\n",
      "         1.84423225, -3.05001358,  1.1680405 ,  0.        ,  0.        ]]), array([[ 0.        ,  0.        ,  0.        ,  0.        ,  0.        ,\n",
      "         0.        ,  2.01272298, -3.39010364,  1.33296134,  0.        ]]), array([[ 0.        ,  0.        ,  0.        ,  0.        ,  0.        ,\n",
      "         0.        ,  0.        ,  0.        ,  1.97411089, -3.86610719]]), array([[0.        , 0.        , 0.        , 0.        , 0.        ,\n",
      "        0.        , 0.        , 0.        , 0.        , 3.94712302]])]\n",
      "   lagrangian_grad: array([-0., -0., -0., -0.,  0.,  0.,  0., -0., -0.,  0.])\n",
      "           message: '`gtol` termination condition is satisfied.'\n",
      "            method: 'tr_interior_point'\n",
      "              nfev: 286\n",
      "              nhev: 0\n",
      "               nit: 31\n",
      "             niter: 31\n",
      "              njev: 26\n",
      "        optimality: 4.8225416865183696e-09\n",
      "            status: 1\n",
      "           success: True\n",
      "         tr_radius: 14174.22186837854\n",
      "                 v: [array([-0.00239104, -0.00075673, -0.00034682, -0.00018094, -0.00009503,\n",
      "       -0.00004058,  0.00000615,  0.00005895,  0.00020233,  0.09727925]), array([0.00006105, 0.00010087, 0.00015769, 0.00025757, 0.00052512,\n",
      "       0.01427916, 0.20052313, 0.09989208, 0.00073971]), array([0.00002895]), array([-0.00000058]), array([7.15460019]), array([5.69866235]), array([4.19511496]), array([2.8042956]), array([1.6493393]), array([0.79874623]), array([0.26139068]), array([0.00037784]), array([0.00033372]), array([0.00010155]), array([0.00060151])]\n",
      "                 x: array([1.01320412, 1.0405017 , 1.08382279, 1.14649342, 1.23391615,\n",
      "       1.35484973, 1.52399642, 1.69516386, 1.8661072 , 1.99981608])\n"
     ]
    }
   ],
   "source": [
    "# initial design (r0)\n",
    "r0 = rmin*np.ones(n)\n",
    "\n",
    "### Solve ###\n",
    "res = minimize(obj, r0,\n",
    "    method=\"trust-constr\",\n",
    "    constraints=[*lin_const, *non_lin_const],\n",
    "    options={\"maxiter\": 10000}\n",
    ")\n",
    "\n",
    "# print results\n",
    "print(res)"
   ]
  },
  {
   "cell_type": "code",
   "execution_count": 8,
   "metadata": {},
   "outputs": [
    {
     "name": "stdout",
     "output_type": "stream",
     "text": [
      "[1.0132 1.0405 1.0838 1.1465 1.2339 1.3548 1.524  1.6952 1.8661 1.9998]\n"
     ]
    }
   ],
   "source": [
    "# print results\n",
    "print(np.round(res.x,4))"
   ]
  },
  {
   "attachments": {},
   "cell_type": "markdown",
   "metadata": {},
   "source": [
    "`[1.0132 1.0405 1.0839 1.1466 1.2341 1.3551 1.5246 1.6959 1.8673 2.0000]`"
   ]
  }
 ],
 "metadata": {
  "kernelspec": {
   "display_name": "4dm20",
   "language": "python",
   "name": "python3"
  },
  "language_info": {
   "codemirror_mode": {
    "name": "ipython",
    "version": 3
   },
   "file_extension": ".py",
   "mimetype": "text/x-python",
   "name": "python",
   "nbconvert_exporter": "python",
   "pygments_lexer": "ipython3",
   "version": "3.10.10"
  },
  "orig_nbformat": 4
 },
 "nbformat": 4,
 "nbformat_minor": 2
}
