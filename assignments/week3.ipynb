{
 "cells": [
  {
   "cell_type": "markdown",
   "metadata": {},
   "source": [
    "### Imports"
   ]
  },
  {
   "cell_type": "code",
   "execution_count": 4,
   "metadata": {},
   "outputs": [],
   "source": [
    "import numpy as np\n",
    "np.set_printoptions(suppress=True)\n",
    "import matplotlib.pyplot as plt\n",
    "import cvxpy as cp "
   ]
  },
  {
   "attachments": {},
   "cell_type": "markdown",
   "metadata": {},
   "source": [
    "Question c)"
   ]
  },
  {
   "cell_type": "code",
   "execution_count": 9,
   "metadata": {},
   "outputs": [
    {
     "name": "stdout",
     "output_type": "stream",
     "text": [
      " barrier_parameter: 2.048000000000001e-09\n",
      " barrier_tolerance: 2.048000000000001e-09\n",
      "          cg_niter: 80\n",
      "      cg_stop_cond: 4\n",
      "            constr: [array([-0.57482205]), array([-0.]), array([-0.]), array([ 3.57146166,  3.10885693, 18.43899674])]\n",
      "       constr_nfev: [192, 192, 192, 0]\n",
      "       constr_nhev: [0, 0, 0, 0]\n",
      "       constr_njev: [0, 0, 0, 0]\n",
      "    constr_penalty: 1.0\n",
      "  constr_violation: 0.0\n",
      "    execution_time: 0.10271501541137695\n",
      "               fun: 374.74481046719563\n",
      "              grad: array([ 89.28654216, 138.50948262,   8.        ])\n",
      "               jac: [array([[-0.23809744,  0.        , -0.02305863]]), array([[ 0.        , -0.64332325, -0.01707596]]), array([[-1.11998958,  0.        , -0.05423288]]), array([[1., 0., 0.],\n",
      "       [0., 1., 0.],\n",
      "       [0., 0., 1.]])]\n",
      "   lagrangian_grad: array([ 0.        ,  0.        , -0.00000006])\n",
      "           message: '`xtol` termination condition is satisfied.'\n",
      "            method: 'tr_interior_point'\n",
      "              nfev: 192\n",
      "              nhev: 0\n",
      "               nit: 76\n",
      "             niter: 76\n",
      "              njev: 48\n",
      "        optimality: 6.057170539384084e-08\n",
      "            status: 2\n",
      "           success: True\n",
      "         tr_radius: 1.0000000000000005e-09\n",
      "                 v: [array([0.]), array([215.30308712]), array([79.72086836]), array([-0., -0.,  0.])]\n",
      "                 x: array([ 3.57146166,  3.10885693, 18.43899674])\n"
     ]
    },
    {
     "name": "stderr",
     "output_type": "stream",
     "text": [
      "c:\\Users\\lange\\.conda\\envs\\4dm20\\lib\\site-packages\\scipy\\optimize\\_hessian_update_strategy.py:182: UserWarning: delta_grad == 0.0. Check if the approximated function is linear. If the function is linear better results can be obtained by defining the Hessian as zero instead of using quasi-Newton approximations.\n",
      "  warn('delta_grad == 0.0. Check if the approximated '\n"
     ]
    }
   ],
   "source": [
    "from scipy.optimize import minimize, NonlinearConstraint, Bounds\n",
    "from numpy import sqrt\n",
    "\n",
    "# define constants given bar length L, external force, saftey factor s\n",
    "L = 12.5    # length of the beam [cm]\n",
    "A = 100     # [cm^3]\n",
    "B = 8       # [cm^2]\n",
    "C = 3000    # [cm^5]\n",
    "\n",
    "# define objective function\n",
    "def f(x):\n",
    "    return x[0]**2 * L + x[1]**2 * sqrt(L**2 + x[2]**2)\n",
    "\n",
    "# define constraints\n",
    "g1 = lambda x: A / (x[0]**2 * x[2]) - 1\n",
    "g2 = lambda x: B * sqrt(L**2 + x[2]**2) / (x[1]**2 * x[2]) - 1\n",
    "g3 = lambda x: C / (x[0]**4 * x[2]) - 1\n",
    "\n",
    "g1_con = NonlinearConstraint(g1, -np.inf, 0)\n",
    "g2_con = NonlinearConstraint(g2, -np.inf, 0)\n",
    "g3_con = NonlinearConstraint(g3, -np.inf, 0)\n",
    "\n",
    "# define bounds\n",
    "bnds = Bounds([0.001, 0.001, 0.001], [np.inf, np.inf, np.inf])\n",
    "\n",
    "# initial guess\n",
    "x0 = np.array([1, 1, 1])\n",
    "\n",
    "# solve optimization problem\n",
    "res = minimize(f, x0, method='trust-constr', constraints=[g1_con, g2_con, g3_con], bounds=bnds)\n",
    "\n",
    "# print results\n",
    "print(res)"
   ]
  },
  {
   "attachments": {},
   "cell_type": "markdown",
   "metadata": {},
   "source": [
    "We read: `v: [0., 215.3, 79.72]`\n",
    "\n",
    "These are the lagrange multipliers. Thus implying g1 is inactive, g2 is active, g3 is active.\n",
    "\n",
    "Furthermore we have: $x^* = [3.57,  3.11, 18.44]$"
   ]
  },
  {
   "cell_type": "code",
   "execution_count": 10,
   "metadata": {},
   "outputs": [
    {
     "data": {
      "text/plain": [
       "100"
      ]
     },
     "execution_count": 10,
     "metadata": {},
     "output_type": "execute_result"
    }
   ],
   "source": [
    "A"
   ]
  },
  {
   "attachments": {},
   "cell_type": "markdown",
   "metadata": {},
   "source": [
    "Question f) verify the KKT conditions:\n",
    "\n",
    "$$\\begin{align}\n",
    "\\nabla f(x^*) + \\mu^{*T}\\nabla g(x^*) &= 0 & \\text{Optimality}\\\\\n",
    "g(x^*) &\\leq 0 & \\text{Feasibility}\\\\\n",
    "\\mu(x^*)^T g(x^*) &= 0 & \\text{Complementary slackness}\\\\\n",
    "\\end{align}$$\n",
    "\n",
    "We have:\n",
    "$ x^* = [3.57,  3.11, 18.44]$, $ \\mu^* = [0, 215.3, 79.72]$\n",
    "\n",
    "Constraints at $x^*$:\n",
    "\n",
    "$$\\begin{align}\n",
    "g_1(x^*) &= \\frac{A}{x_1^2 x_3} - 1 = \\frac{100}{3.57^2 \\cdot 18.44} - 1 = -0.5745 < 0\\\\\n",
    "g_2(x^*) &= \\frac{B \\sqrt{L^2 + x_3^2}}{x_2^2 x_3} - 1 = \\frac{8 \\sqrt{12.5^2 + 18.44^2}}{3.11^2 \\cdot 18.44} - 1 = 0\\\\\n",
    "g_3(x^*) &= \\frac{C}{x_1^4x_3} -1 = \\frac{3000}{3.57^4 \\cdot 18.44} - 1 = -0.5745 = 0\\\\\n",
    "\\end{align}$$\n",
    "\n",
    "So this is correct, g2 and g3 are active, g1 is inactive. Complementary slackness is also satisfied, since $\\mu(x^*)^T g(x^*) = 0$\n",
    "\n",
    "Lastly, we verify the gradient condition:\n",
    "..."
   ]
  }
 ],
 "metadata": {
  "kernelspec": {
   "display_name": "4dm20",
   "language": "python",
   "name": "python3"
  },
  "language_info": {
   "codemirror_mode": {
    "name": "ipython",
    "version": 3
   },
   "file_extension": ".py",
   "mimetype": "text/x-python",
   "name": "python",
   "nbconvert_exporter": "python",
   "pygments_lexer": "ipython3",
   "version": "3.10.10"
  },
  "orig_nbformat": 4
 },
 "nbformat": 4,
 "nbformat_minor": 2
}
